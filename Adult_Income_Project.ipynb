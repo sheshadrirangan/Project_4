{
 "cells": [
  {
   "cell_type": "markdown",
   "metadata": {},
   "source": [
    "## Adult_Income_Project"
   ]
  },
  {
   "cell_type": "code",
   "execution_count": 90,
   "metadata": {},
   "outputs": [],
   "source": [
    "import numpy as np\n",
    "import pandas as pd"
   ]
  },
  {
   "cell_type": "code",
   "execution_count": 3,
   "metadata": {},
   "outputs": [],
   "source": [
    "#Get training data\n",
    "train_set = pd.read_csv('http://archive.ics.uci.edu/ml/machine-learning-databases/adult/adult.data', header = None)"
   ]
  },
  {
   "cell_type": "code",
   "execution_count": 4,
   "metadata": {},
   "outputs": [],
   "source": [
    "#Get test data\n",
    "test_set = pd.read_csv('http://archive.ics.uci.edu/ml/machine-learning-databases/adult/adult.test', skiprows = 1, header = None)"
   ]
  },
  {
   "cell_type": "code",
   "execution_count": 5,
   "metadata": {},
   "outputs": [],
   "source": [
    "df = train_set.append(test_set)"
   ]
  },
  {
   "cell_type": "code",
   "execution_count": 6,
   "metadata": {},
   "outputs": [
    {
     "data": {
      "text/html": [
       "<div>\n",
       "<style scoped>\n",
       "    .dataframe tbody tr th:only-of-type {\n",
       "        vertical-align: middle;\n",
       "    }\n",
       "\n",
       "    .dataframe tbody tr th {\n",
       "        vertical-align: top;\n",
       "    }\n",
       "\n",
       "    .dataframe thead th {\n",
       "        text-align: right;\n",
       "    }\n",
       "</style>\n",
       "<table border=\"1\" class=\"dataframe\">\n",
       "  <thead>\n",
       "    <tr style=\"text-align: right;\">\n",
       "      <th></th>\n",
       "      <th>0</th>\n",
       "      <th>1</th>\n",
       "      <th>2</th>\n",
       "      <th>3</th>\n",
       "      <th>4</th>\n",
       "      <th>5</th>\n",
       "      <th>6</th>\n",
       "      <th>7</th>\n",
       "      <th>8</th>\n",
       "      <th>9</th>\n",
       "      <th>10</th>\n",
       "      <th>11</th>\n",
       "      <th>12</th>\n",
       "      <th>13</th>\n",
       "      <th>14</th>\n",
       "    </tr>\n",
       "  </thead>\n",
       "  <tbody>\n",
       "    <tr>\n",
       "      <th>0</th>\n",
       "      <td>39</td>\n",
       "      <td>State-gov</td>\n",
       "      <td>77516</td>\n",
       "      <td>Bachelors</td>\n",
       "      <td>13</td>\n",
       "      <td>Never-married</td>\n",
       "      <td>Adm-clerical</td>\n",
       "      <td>Not-in-family</td>\n",
       "      <td>White</td>\n",
       "      <td>Male</td>\n",
       "      <td>2174</td>\n",
       "      <td>0</td>\n",
       "      <td>40</td>\n",
       "      <td>United-States</td>\n",
       "      <td>&lt;=50K</td>\n",
       "    </tr>\n",
       "    <tr>\n",
       "      <th>1</th>\n",
       "      <td>50</td>\n",
       "      <td>Self-emp-not-inc</td>\n",
       "      <td>83311</td>\n",
       "      <td>Bachelors</td>\n",
       "      <td>13</td>\n",
       "      <td>Married-civ-spouse</td>\n",
       "      <td>Exec-managerial</td>\n",
       "      <td>Husband</td>\n",
       "      <td>White</td>\n",
       "      <td>Male</td>\n",
       "      <td>0</td>\n",
       "      <td>0</td>\n",
       "      <td>13</td>\n",
       "      <td>United-States</td>\n",
       "      <td>&lt;=50K</td>\n",
       "    </tr>\n",
       "    <tr>\n",
       "      <th>2</th>\n",
       "      <td>38</td>\n",
       "      <td>Private</td>\n",
       "      <td>215646</td>\n",
       "      <td>HS-grad</td>\n",
       "      <td>9</td>\n",
       "      <td>Divorced</td>\n",
       "      <td>Handlers-cleaners</td>\n",
       "      <td>Not-in-family</td>\n",
       "      <td>White</td>\n",
       "      <td>Male</td>\n",
       "      <td>0</td>\n",
       "      <td>0</td>\n",
       "      <td>40</td>\n",
       "      <td>United-States</td>\n",
       "      <td>&lt;=50K</td>\n",
       "    </tr>\n",
       "    <tr>\n",
       "      <th>3</th>\n",
       "      <td>53</td>\n",
       "      <td>Private</td>\n",
       "      <td>234721</td>\n",
       "      <td>11th</td>\n",
       "      <td>7</td>\n",
       "      <td>Married-civ-spouse</td>\n",
       "      <td>Handlers-cleaners</td>\n",
       "      <td>Husband</td>\n",
       "      <td>Black</td>\n",
       "      <td>Male</td>\n",
       "      <td>0</td>\n",
       "      <td>0</td>\n",
       "      <td>40</td>\n",
       "      <td>United-States</td>\n",
       "      <td>&lt;=50K</td>\n",
       "    </tr>\n",
       "    <tr>\n",
       "      <th>4</th>\n",
       "      <td>28</td>\n",
       "      <td>Private</td>\n",
       "      <td>338409</td>\n",
       "      <td>Bachelors</td>\n",
       "      <td>13</td>\n",
       "      <td>Married-civ-spouse</td>\n",
       "      <td>Prof-specialty</td>\n",
       "      <td>Wife</td>\n",
       "      <td>Black</td>\n",
       "      <td>Female</td>\n",
       "      <td>0</td>\n",
       "      <td>0</td>\n",
       "      <td>40</td>\n",
       "      <td>Cuba</td>\n",
       "      <td>&lt;=50K</td>\n",
       "    </tr>\n",
       "  </tbody>\n",
       "</table>\n",
       "</div>"
      ],
      "text/plain": [
       "   0                  1       2           3   4                    5   \\\n",
       "0  39          State-gov   77516   Bachelors  13        Never-married   \n",
       "1  50   Self-emp-not-inc   83311   Bachelors  13   Married-civ-spouse   \n",
       "2  38            Private  215646     HS-grad   9             Divorced   \n",
       "3  53            Private  234721        11th   7   Married-civ-spouse   \n",
       "4  28            Private  338409   Bachelors  13   Married-civ-spouse   \n",
       "\n",
       "                   6               7       8        9     10  11  12  \\\n",
       "0        Adm-clerical   Not-in-family   White     Male  2174   0  40   \n",
       "1     Exec-managerial         Husband   White     Male     0   0  13   \n",
       "2   Handlers-cleaners   Not-in-family   White     Male     0   0  40   \n",
       "3   Handlers-cleaners         Husband   Black     Male     0   0  40   \n",
       "4      Prof-specialty            Wife   Black   Female     0   0  40   \n",
       "\n",
       "               13      14  \n",
       "0   United-States   <=50K  \n",
       "1   United-States   <=50K  \n",
       "2   United-States   <=50K  \n",
       "3   United-States   <=50K  \n",
       "4            Cuba   <=50K  "
      ]
     },
     "execution_count": 6,
     "metadata": {},
     "output_type": "execute_result"
    }
   ],
   "source": [
    "#Display first 5 rows of dataframe\n",
    "df.head()"
   ]
  },
  {
   "cell_type": "code",
   "execution_count": 7,
   "metadata": {},
   "outputs": [],
   "source": [
    "#Columns Names\n",
    "col_labels = ['age', 'workclass', 'fnlwgt', 'education', 'education_num', 'marital_status', 'occupation', \n",
    "              'relationship', 'race', 'sex', 'capital_gain', 'capital_loss', 'hours_per_week', 'native_country',\n",
    "             'income']"
   ]
  },
  {
   "cell_type": "code",
   "execution_count": 8,
   "metadata": {},
   "outputs": [],
   "source": [
    "#Set columns for data frame\n",
    "df.columns = col_labels"
   ]
  },
  {
   "cell_type": "code",
   "execution_count": 9,
   "metadata": {},
   "outputs": [
    {
     "data": {
      "text/html": [
       "<div>\n",
       "<style scoped>\n",
       "    .dataframe tbody tr th:only-of-type {\n",
       "        vertical-align: middle;\n",
       "    }\n",
       "\n",
       "    .dataframe tbody tr th {\n",
       "        vertical-align: top;\n",
       "    }\n",
       "\n",
       "    .dataframe thead th {\n",
       "        text-align: right;\n",
       "    }\n",
       "</style>\n",
       "<table border=\"1\" class=\"dataframe\">\n",
       "  <thead>\n",
       "    <tr style=\"text-align: right;\">\n",
       "      <th></th>\n",
       "      <th>age</th>\n",
       "      <th>workclass</th>\n",
       "      <th>fnlwgt</th>\n",
       "      <th>education</th>\n",
       "      <th>education_num</th>\n",
       "      <th>marital_status</th>\n",
       "      <th>occupation</th>\n",
       "      <th>relationship</th>\n",
       "      <th>race</th>\n",
       "      <th>sex</th>\n",
       "      <th>capital_gain</th>\n",
       "      <th>capital_loss</th>\n",
       "      <th>hours_per_week</th>\n",
       "      <th>native_country</th>\n",
       "      <th>income</th>\n",
       "    </tr>\n",
       "  </thead>\n",
       "  <tbody>\n",
       "    <tr>\n",
       "      <th>0</th>\n",
       "      <td>39</td>\n",
       "      <td>State-gov</td>\n",
       "      <td>77516</td>\n",
       "      <td>Bachelors</td>\n",
       "      <td>13</td>\n",
       "      <td>Never-married</td>\n",
       "      <td>Adm-clerical</td>\n",
       "      <td>Not-in-family</td>\n",
       "      <td>White</td>\n",
       "      <td>Male</td>\n",
       "      <td>2174</td>\n",
       "      <td>0</td>\n",
       "      <td>40</td>\n",
       "      <td>United-States</td>\n",
       "      <td>&lt;=50K</td>\n",
       "    </tr>\n",
       "    <tr>\n",
       "      <th>1</th>\n",
       "      <td>50</td>\n",
       "      <td>Self-emp-not-inc</td>\n",
       "      <td>83311</td>\n",
       "      <td>Bachelors</td>\n",
       "      <td>13</td>\n",
       "      <td>Married-civ-spouse</td>\n",
       "      <td>Exec-managerial</td>\n",
       "      <td>Husband</td>\n",
       "      <td>White</td>\n",
       "      <td>Male</td>\n",
       "      <td>0</td>\n",
       "      <td>0</td>\n",
       "      <td>13</td>\n",
       "      <td>United-States</td>\n",
       "      <td>&lt;=50K</td>\n",
       "    </tr>\n",
       "    <tr>\n",
       "      <th>2</th>\n",
       "      <td>38</td>\n",
       "      <td>Private</td>\n",
       "      <td>215646</td>\n",
       "      <td>HS-grad</td>\n",
       "      <td>9</td>\n",
       "      <td>Divorced</td>\n",
       "      <td>Handlers-cleaners</td>\n",
       "      <td>Not-in-family</td>\n",
       "      <td>White</td>\n",
       "      <td>Male</td>\n",
       "      <td>0</td>\n",
       "      <td>0</td>\n",
       "      <td>40</td>\n",
       "      <td>United-States</td>\n",
       "      <td>&lt;=50K</td>\n",
       "    </tr>\n",
       "    <tr>\n",
       "      <th>3</th>\n",
       "      <td>53</td>\n",
       "      <td>Private</td>\n",
       "      <td>234721</td>\n",
       "      <td>11th</td>\n",
       "      <td>7</td>\n",
       "      <td>Married-civ-spouse</td>\n",
       "      <td>Handlers-cleaners</td>\n",
       "      <td>Husband</td>\n",
       "      <td>Black</td>\n",
       "      <td>Male</td>\n",
       "      <td>0</td>\n",
       "      <td>0</td>\n",
       "      <td>40</td>\n",
       "      <td>United-States</td>\n",
       "      <td>&lt;=50K</td>\n",
       "    </tr>\n",
       "    <tr>\n",
       "      <th>4</th>\n",
       "      <td>28</td>\n",
       "      <td>Private</td>\n",
       "      <td>338409</td>\n",
       "      <td>Bachelors</td>\n",
       "      <td>13</td>\n",
       "      <td>Married-civ-spouse</td>\n",
       "      <td>Prof-specialty</td>\n",
       "      <td>Wife</td>\n",
       "      <td>Black</td>\n",
       "      <td>Female</td>\n",
       "      <td>0</td>\n",
       "      <td>0</td>\n",
       "      <td>40</td>\n",
       "      <td>Cuba</td>\n",
       "      <td>&lt;=50K</td>\n",
       "    </tr>\n",
       "  </tbody>\n",
       "</table>\n",
       "</div>"
      ],
      "text/plain": [
       "   age          workclass  fnlwgt   education  education_num  \\\n",
       "0   39          State-gov   77516   Bachelors             13   \n",
       "1   50   Self-emp-not-inc   83311   Bachelors             13   \n",
       "2   38            Private  215646     HS-grad              9   \n",
       "3   53            Private  234721        11th              7   \n",
       "4   28            Private  338409   Bachelors             13   \n",
       "\n",
       "        marital_status          occupation    relationship    race      sex  \\\n",
       "0        Never-married        Adm-clerical   Not-in-family   White     Male   \n",
       "1   Married-civ-spouse     Exec-managerial         Husband   White     Male   \n",
       "2             Divorced   Handlers-cleaners   Not-in-family   White     Male   \n",
       "3   Married-civ-spouse   Handlers-cleaners         Husband   Black     Male   \n",
       "4   Married-civ-spouse      Prof-specialty            Wife   Black   Female   \n",
       "\n",
       "   capital_gain  capital_loss  hours_per_week  native_country  income  \n",
       "0          2174             0              40   United-States   <=50K  \n",
       "1             0             0              13   United-States   <=50K  \n",
       "2             0             0              40   United-States   <=50K  \n",
       "3             0             0              40   United-States   <=50K  \n",
       "4             0             0              40            Cuba   <=50K  "
      ]
     },
     "execution_count": 9,
     "metadata": {},
     "output_type": "execute_result"
    }
   ],
   "source": [
    "#Display first 5 rows of training dataframe\n",
    "df.head()"
   ]
  },
  {
   "cell_type": "code",
   "execution_count": 10,
   "metadata": {},
   "outputs": [
    {
     "data": {
      "text/plain": [
       "array([' <=50K', ' >50K', ' <=50K.', ' >50K.'], dtype=object)"
      ]
     },
     "execution_count": 10,
     "metadata": {},
     "output_type": "execute_result"
    }
   ],
   "source": [
    "df.income.unique()"
   ]
  },
  {
   "cell_type": "code",
   "execution_count": 11,
   "metadata": {},
   "outputs": [],
   "source": [
    "df.income = df.income.map({' <=50K':0, ' >50K':1, ' <=50K.':0, ' >50K.':1}).astype(int)"
   ]
  },
  {
   "cell_type": "code",
   "execution_count": 12,
   "metadata": {
    "scrolled": true
   },
   "outputs": [
    {
     "name": "stdout",
     "output_type": "stream",
     "text": [
      "<class 'pandas.core.frame.DataFrame'>\n",
      "Int64Index: 48842 entries, 0 to 16280\n",
      "Data columns (total 15 columns):\n",
      "age               48842 non-null int64\n",
      "workclass         48842 non-null object\n",
      "fnlwgt            48842 non-null int64\n",
      "education         48842 non-null object\n",
      "education_num     48842 non-null int64\n",
      "marital_status    48842 non-null object\n",
      "occupation        48842 non-null object\n",
      "relationship      48842 non-null object\n",
      "race              48842 non-null object\n",
      "sex               48842 non-null object\n",
      "capital_gain      48842 non-null int64\n",
      "capital_loss      48842 non-null int64\n",
      "hours_per_week    48842 non-null int64\n",
      "native_country    48842 non-null object\n",
      "income            48842 non-null int32\n",
      "dtypes: int32(1), int64(6), object(8)\n",
      "memory usage: 5.8+ MB\n"
     ]
    }
   ],
   "source": [
    "df.info()"
   ]
  },
  {
   "cell_type": "code",
   "execution_count": 13,
   "metadata": {},
   "outputs": [
    {
     "data": {
      "text/plain": [
       "(48842, 15)"
      ]
     },
     "execution_count": 13,
     "metadata": {},
     "output_type": "execute_result"
    }
   ],
   "source": [
    "df.shape"
   ]
  },
  {
   "cell_type": "code",
   "execution_count": 14,
   "metadata": {},
   "outputs": [
    {
     "data": {
      "text/plain": [
       "(45222, 15)"
      ]
     },
     "execution_count": 14,
     "metadata": {},
     "output_type": "execute_result"
    }
   ],
   "source": [
    "df.replace(' ?', np.nan).dropna().shape"
   ]
  },
  {
   "cell_type": "code",
   "execution_count": 15,
   "metadata": {},
   "outputs": [],
   "source": [
    "df = df.replace(' ?', np.nan).dropna()"
   ]
  },
  {
   "cell_type": "code",
   "execution_count": 16,
   "metadata": {},
   "outputs": [
    {
     "data": {
      "text/plain": [
       "(45222, 15)"
      ]
     },
     "execution_count": 16,
     "metadata": {},
     "output_type": "execute_result"
    }
   ],
   "source": [
    "df.shape"
   ]
  },
  {
   "cell_type": "code",
   "execution_count": 17,
   "metadata": {
    "scrolled": true
   },
   "outputs": [
    {
     "data": {
      "text/html": [
       "<div>\n",
       "<style scoped>\n",
       "    .dataframe tbody tr th:only-of-type {\n",
       "        vertical-align: middle;\n",
       "    }\n",
       "\n",
       "    .dataframe tbody tr th {\n",
       "        vertical-align: top;\n",
       "    }\n",
       "\n",
       "    .dataframe thead th {\n",
       "        text-align: right;\n",
       "    }\n",
       "</style>\n",
       "<table border=\"1\" class=\"dataframe\">\n",
       "  <thead>\n",
       "    <tr style=\"text-align: right;\">\n",
       "      <th></th>\n",
       "      <th>age</th>\n",
       "      <th>fnlwgt</th>\n",
       "      <th>education_num</th>\n",
       "      <th>capital_gain</th>\n",
       "      <th>capital_loss</th>\n",
       "      <th>hours_per_week</th>\n",
       "      <th>income</th>\n",
       "      <th>workclass_ Federal-gov</th>\n",
       "      <th>workclass_ Local-gov</th>\n",
       "      <th>workclass_ Private</th>\n",
       "      <th>...</th>\n",
       "      <th>native_country_ Portugal</th>\n",
       "      <th>native_country_ Puerto-Rico</th>\n",
       "      <th>native_country_ Scotland</th>\n",
       "      <th>native_country_ South</th>\n",
       "      <th>native_country_ Taiwan</th>\n",
       "      <th>native_country_ Thailand</th>\n",
       "      <th>native_country_ Trinadad&amp;Tobago</th>\n",
       "      <th>native_country_ United-States</th>\n",
       "      <th>native_country_ Vietnam</th>\n",
       "      <th>native_country_ Yugoslavia</th>\n",
       "    </tr>\n",
       "  </thead>\n",
       "  <tbody>\n",
       "    <tr>\n",
       "      <th>0</th>\n",
       "      <td>39</td>\n",
       "      <td>77516</td>\n",
       "      <td>13</td>\n",
       "      <td>2174</td>\n",
       "      <td>0</td>\n",
       "      <td>40</td>\n",
       "      <td>0</td>\n",
       "      <td>0</td>\n",
       "      <td>0</td>\n",
       "      <td>0</td>\n",
       "      <td>...</td>\n",
       "      <td>0</td>\n",
       "      <td>0</td>\n",
       "      <td>0</td>\n",
       "      <td>0</td>\n",
       "      <td>0</td>\n",
       "      <td>0</td>\n",
       "      <td>0</td>\n",
       "      <td>1</td>\n",
       "      <td>0</td>\n",
       "      <td>0</td>\n",
       "    </tr>\n",
       "    <tr>\n",
       "      <th>1</th>\n",
       "      <td>50</td>\n",
       "      <td>83311</td>\n",
       "      <td>13</td>\n",
       "      <td>0</td>\n",
       "      <td>0</td>\n",
       "      <td>13</td>\n",
       "      <td>0</td>\n",
       "      <td>0</td>\n",
       "      <td>0</td>\n",
       "      <td>0</td>\n",
       "      <td>...</td>\n",
       "      <td>0</td>\n",
       "      <td>0</td>\n",
       "      <td>0</td>\n",
       "      <td>0</td>\n",
       "      <td>0</td>\n",
       "      <td>0</td>\n",
       "      <td>0</td>\n",
       "      <td>1</td>\n",
       "      <td>0</td>\n",
       "      <td>0</td>\n",
       "    </tr>\n",
       "    <tr>\n",
       "      <th>2</th>\n",
       "      <td>38</td>\n",
       "      <td>215646</td>\n",
       "      <td>9</td>\n",
       "      <td>0</td>\n",
       "      <td>0</td>\n",
       "      <td>40</td>\n",
       "      <td>0</td>\n",
       "      <td>0</td>\n",
       "      <td>0</td>\n",
       "      <td>1</td>\n",
       "      <td>...</td>\n",
       "      <td>0</td>\n",
       "      <td>0</td>\n",
       "      <td>0</td>\n",
       "      <td>0</td>\n",
       "      <td>0</td>\n",
       "      <td>0</td>\n",
       "      <td>0</td>\n",
       "      <td>1</td>\n",
       "      <td>0</td>\n",
       "      <td>0</td>\n",
       "    </tr>\n",
       "    <tr>\n",
       "      <th>3</th>\n",
       "      <td>53</td>\n",
       "      <td>234721</td>\n",
       "      <td>7</td>\n",
       "      <td>0</td>\n",
       "      <td>0</td>\n",
       "      <td>40</td>\n",
       "      <td>0</td>\n",
       "      <td>0</td>\n",
       "      <td>0</td>\n",
       "      <td>1</td>\n",
       "      <td>...</td>\n",
       "      <td>0</td>\n",
       "      <td>0</td>\n",
       "      <td>0</td>\n",
       "      <td>0</td>\n",
       "      <td>0</td>\n",
       "      <td>0</td>\n",
       "      <td>0</td>\n",
       "      <td>1</td>\n",
       "      <td>0</td>\n",
       "      <td>0</td>\n",
       "    </tr>\n",
       "    <tr>\n",
       "      <th>4</th>\n",
       "      <td>28</td>\n",
       "      <td>338409</td>\n",
       "      <td>13</td>\n",
       "      <td>0</td>\n",
       "      <td>0</td>\n",
       "      <td>40</td>\n",
       "      <td>0</td>\n",
       "      <td>0</td>\n",
       "      <td>0</td>\n",
       "      <td>1</td>\n",
       "      <td>...</td>\n",
       "      <td>0</td>\n",
       "      <td>0</td>\n",
       "      <td>0</td>\n",
       "      <td>0</td>\n",
       "      <td>0</td>\n",
       "      <td>0</td>\n",
       "      <td>0</td>\n",
       "      <td>0</td>\n",
       "      <td>0</td>\n",
       "      <td>0</td>\n",
       "    </tr>\n",
       "  </tbody>\n",
       "</table>\n",
       "<p>5 rows × 105 columns</p>\n",
       "</div>"
      ],
      "text/plain": [
       "   age  fnlwgt  education_num  capital_gain  capital_loss  hours_per_week  \\\n",
       "0   39   77516             13          2174             0              40   \n",
       "1   50   83311             13             0             0              13   \n",
       "2   38  215646              9             0             0              40   \n",
       "3   53  234721              7             0             0              40   \n",
       "4   28  338409             13             0             0              40   \n",
       "\n",
       "   income  workclass_ Federal-gov  workclass_ Local-gov  workclass_ Private  \\\n",
       "0       0                       0                     0                   0   \n",
       "1       0                       0                     0                   0   \n",
       "2       0                       0                     0                   1   \n",
       "3       0                       0                     0                   1   \n",
       "4       0                       0                     0                   1   \n",
       "\n",
       "              ...              native_country_ Portugal  \\\n",
       "0             ...                                     0   \n",
       "1             ...                                     0   \n",
       "2             ...                                     0   \n",
       "3             ...                                     0   \n",
       "4             ...                                     0   \n",
       "\n",
       "   native_country_ Puerto-Rico  native_country_ Scotland  \\\n",
       "0                            0                         0   \n",
       "1                            0                         0   \n",
       "2                            0                         0   \n",
       "3                            0                         0   \n",
       "4                            0                         0   \n",
       "\n",
       "   native_country_ South  native_country_ Taiwan  native_country_ Thailand  \\\n",
       "0                      0                       0                         0   \n",
       "1                      0                       0                         0   \n",
       "2                      0                       0                         0   \n",
       "3                      0                       0                         0   \n",
       "4                      0                       0                         0   \n",
       "\n",
       "   native_country_ Trinadad&Tobago  native_country_ United-States  \\\n",
       "0                                0                              1   \n",
       "1                                0                              1   \n",
       "2                                0                              1   \n",
       "3                                0                              1   \n",
       "4                                0                              0   \n",
       "\n",
       "   native_country_ Vietnam  native_country_ Yugoslavia  \n",
       "0                        0                           0  \n",
       "1                        0                           0  \n",
       "2                        0                           0  \n",
       "3                        0                           0  \n",
       "4                        0                           0  \n",
       "\n",
       "[5 rows x 105 columns]"
      ]
     },
     "execution_count": 17,
     "metadata": {},
     "output_type": "execute_result"
    }
   ],
   "source": [
    "final_df = pd.get_dummies(df)\n",
    "final_df.head()"
   ]
  },
  {
   "cell_type": "code",
   "execution_count": 18,
   "metadata": {},
   "outputs": [],
   "source": [
    "X = final_df.drop('income', axis=1)"
   ]
  },
  {
   "cell_type": "code",
   "execution_count": 19,
   "metadata": {},
   "outputs": [],
   "source": [
    "y = final_df.income"
   ]
  },
  {
   "cell_type": "code",
   "execution_count": 20,
   "metadata": {},
   "outputs": [],
   "source": [
    "from sklearn.model_selection import train_test_split\n",
    "\n",
    "X_train, X_test, y_train, y_test = train_test_split(X, y, test_size=0.30, random_state=10)"
   ]
  },
  {
   "cell_type": "markdown",
   "metadata": {},
   "source": [
    "### Models"
   ]
  },
  {
   "cell_type": "code",
   "execution_count": 21,
   "metadata": {},
   "outputs": [],
   "source": [
    "performance = []"
   ]
  },
  {
   "cell_type": "code",
   "execution_count": 77,
   "metadata": {},
   "outputs": [],
   "source": [
    "from sklearn.metrics import classification_report\n",
    "from sklearn.metrics import confusion_matrix\n",
    "from sklearn.metrics import roc_curve, auc"
   ]
  },
  {
   "cell_type": "code",
   "execution_count": 84,
   "metadata": {},
   "outputs": [],
   "source": [
    "def Algo_Data(prediction):\n",
    "    print('-'*40)\n",
    "    print('Confusion Matrix')\n",
    "    print(confusion_matrix(y_test,prediction))\n",
    "    print('-'*40)\n",
    "    print('Classification Report')\n",
    "    print(classification_report(y_test,prediction))\n",
    "    print('-'*40)\n",
    "    print('AUC ROC')\n",
    "    false_positive_rate, true_positive_rate, thresholds = roc_curve(y_test, prediction)\n",
    "    roc_auc = auc(false_positive_rate, true_positive_rate)\n",
    "    \n",
    "    plt.title('ROC')\n",
    "    plt.plot(false_positive_rate, true_positive_rate, 'b',label='AUC = %0.2f'% roc_auc)\n",
    "    plt.legend(loc='lower right')\n",
    "    plt.plot([0,1],[0,1],'r--')\n",
    "    plt.xlim([-0.1,1.2])\n",
    "    plt.ylim([-0.1,1.2])\n",
    "    plt.ylabel('True Positive Rate')\n",
    "    plt.xlabel('False Positive Rate')\n",
    "    plt.show()"
   ]
  },
  {
   "cell_type": "markdown",
   "metadata": {},
   "source": [
    "#### Logistic Regression"
   ]
  },
  {
   "cell_type": "code",
   "execution_count": 22,
   "metadata": {},
   "outputs": [],
   "source": [
    "from sklearn.linear_model import LogisticRegression"
   ]
  },
  {
   "cell_type": "code",
   "execution_count": 23,
   "metadata": {},
   "outputs": [],
   "source": [
    "lr = LogisticRegression()"
   ]
  },
  {
   "cell_type": "code",
   "execution_count": 24,
   "metadata": {},
   "outputs": [
    {
     "name": "stderr",
     "output_type": "stream",
     "text": [
      "C:\\ProgramData\\Anaconda3\\lib\\site-packages\\sklearn\\linear_model\\logistic.py:433: FutureWarning: Default solver will be changed to 'lbfgs' in 0.22. Specify a solver to silence this warning.\n",
      "  FutureWarning)\n"
     ]
    },
    {
     "data": {
      "text/plain": [
       "LogisticRegression(C=1.0, class_weight=None, dual=False, fit_intercept=True,\n",
       "          intercept_scaling=1, max_iter=100, multi_class='warn',\n",
       "          n_jobs=None, penalty='l2', random_state=None, solver='warn',\n",
       "          tol=0.0001, verbose=0, warm_start=False)"
      ]
     },
     "execution_count": 24,
     "metadata": {},
     "output_type": "execute_result"
    }
   ],
   "source": [
    "lr.fit(X_train, y_train)"
   ]
  },
  {
   "cell_type": "code",
   "execution_count": 86,
   "metadata": {},
   "outputs": [
    {
     "name": "stdout",
     "output_type": "stream",
     "text": [
      "----------------------------------------\n",
      "Confusion Matrix\n",
      "[[9827  359]\n",
      " [2439  942]]\n",
      "----------------------------------------\n",
      "Classification Report\n",
      "              precision    recall  f1-score   support\n",
      "\n",
      "           0       0.80      0.96      0.88     10186\n",
      "           1       0.72      0.28      0.40      3381\n",
      "\n",
      "   micro avg       0.79      0.79      0.79     13567\n",
      "   macro avg       0.76      0.62      0.64     13567\n",
      "weighted avg       0.78      0.79      0.76     13567\n",
      "\n",
      "----------------------------------------\n",
      "AUC ROC\n"
     ]
    },
    {
     "data": {
      "image/png": "[encoded data removed]",
      "text/plain": [
       "<Figure size 432x288 with 1 Axes>"
      ]
     },
     "metadata": {
      "needs_background": "light"
     },
     "output_type": "display_data"
    },
    {
     "name": "stdout",
     "output_type": "stream",
     "text": [
      "LogisticRegression : Training score - 0.790870320644448 - Test score - 0.7937642809758974\n"
     ]
    }
   ],
   "source": [
    "train_score = lr.score(X_train,y_train)\n",
    "test_score = lr.score(X_test,y_test)\n",
    "prediction = lr.predict(X_test)\n",
    "Algo_Data(prediction)\n",
    "\n",
    "print(f'LogisticRegression : Training score - {train_score} - Test score - {test_score}')\n",
    "\n",
    "performance.append({'algorithm':'LogisticRegression', 'training_score':train_score, 'testing_score':test_score})"
   ]
  },
  {
   "cell_type": "markdown",
   "metadata": {},
   "source": [
    "#### Gaussian Naive Bayes"
   ]
  },
  {
   "cell_type": "code",
   "execution_count": 26,
   "metadata": {},
   "outputs": [],
   "source": [
    "from sklearn.naive_bayes import GaussianNB\n",
    "\n",
    "GNB = GaussianNB()"
   ]
  },
  {
   "cell_type": "code",
   "execution_count": 87,
   "metadata": {
    "scrolled": true
   },
   "outputs": [
    {
     "name": "stdout",
     "output_type": "stream",
     "text": [
      "----------------------------------------\n",
      "Confusion Matrix\n",
      "[[9641  545]\n",
      " [2306 1075]]\n",
      "----------------------------------------\n",
      "Classification Report\n",
      "              precision    recall  f1-score   support\n",
      "\n",
      "           0       0.81      0.95      0.87     10186\n",
      "           1       0.66      0.32      0.43      3381\n",
      "\n",
      "   micro avg       0.79      0.79      0.79     13567\n",
      "   macro avg       0.74      0.63      0.65     13567\n",
      "weighted avg       0.77      0.79      0.76     13567\n",
      "\n",
      "----------------------------------------\n",
      "AUC ROC\n"
     ]
    },
    {
     "data": {
      "image/png": "[encoded data removed]",
      "text/plain": [
       "<Figure size 432x288 with 1 Axes>"
      ]
     },
     "metadata": {
      "needs_background": "light"
     },
     "output_type": "display_data"
    },
    {
     "name": "stdout",
     "output_type": "stream",
     "text": [
      "Gaussian Naive Bayes : Training score - 0.7883114831780129 - Test score - 0.7898577430529963\n"
     ]
    }
   ],
   "source": [
    "GNB.fit(X_train,y_train)\n",
    "train_score = GNB.score(X_train,y_train)\n",
    "test_score = GNB.score(X_test,y_test)\n",
    "prediction = GNB.predict(X_test)\n",
    "Algo_Data(prediction)\n",
    "\n",
    "print(f'Gaussian Naive Bayes : Training score - {train_score} - Test score - {test_score}')\n",
    "\n",
    "performance.append({'algorithm':'Gaussian Naive Bayes', 'training_score':train_score, 'testing_score':test_score})"
   ]
  },
  {
   "cell_type": "markdown",
   "metadata": {},
   "source": [
    "#### KNN"
   ]
  },
  {
   "cell_type": "code",
   "execution_count": 28,
   "metadata": {},
   "outputs": [],
   "source": [
    "from sklearn.neighbors import KNeighborsClassifier\n",
    "import matplotlib.pyplot as plt"
   ]
  },
  {
   "cell_type": "code",
   "execution_count": 29,
   "metadata": {},
   "outputs": [],
   "source": [
    "knn_scores = []"
   ]
  },
  {
   "cell_type": "code",
   "execution_count": 30,
   "metadata": {},
   "outputs": [
    {
     "name": "stdout",
     "output_type": "stream",
     "text": [
      "KNN 1 : Training score - 0.9999368188279892 -- Test score - 0.7297118006928577\n",
      "KNN 3 : Training score - 0.8620439109145475 -- Test score - 0.7569838578904695\n",
      "KNN 5 : Training score - 0.8296003790870321 -- Test score - 0.7723151765312891\n",
      "KNN 7 : Training score - 0.8155109777286369 -- Test score - 0.7804230854278764\n",
      "KNN 9 : Training score - 0.8089401358395198 -- Test score - 0.7860249133927913\n",
      "KNN 11 : Training score - 0.8053388090349076 -- Test score - 0.7897840347903\n",
      "KNN 13 : Training score - 0.8023692939504028 -- Test score - 0.7905211174172625\n",
      "KNN 15 : Training score - 0.800252724688043 -- Test score - 0.7925849487727574\n",
      "KNN 17 : Training score - 0.7996525035539409 -- Test score - 0.7942065305520749\n",
      "KNN 19 : Training score - 0.7990206918338335 -- Test score - 0.7945750718655561\n"
     ]
    },
    {
     "data": {
      "image/png": "[encoded data removed]",
      "text/plain": [
       "<Figure size 432x288 with 1 Axes>"
      ]
     },
     "metadata": {
      "needs_background": "light"
     },
     "output_type": "display_data"
    }
   ],
   "source": [
    "train_scores = []\n",
    "test_scores = []\n",
    "\n",
    "for n in range(1,20,2):\n",
    "    knn = KNeighborsClassifier(n_neighbors=n)\n",
    "    knn.fit(X_train,y_train)\n",
    "    train_score = knn.score(X_train,y_train)\n",
    "    test_score = knn.score(X_test,y_test)\n",
    "    train_scores.append(train_score)\n",
    "    test_scores.append(test_score)\n",
    "    print(f'KNN {n} : Training score - {train_score} -- Test score - {test_score}')\n",
    "    knn_scores.append({'algorithm':'KNN', 'training_score':train_score})\n",
    "    \n",
    "plt.scatter(x=range(1, 20, 2),y=train_scores,c='b')\n",
    "plt.scatter(x=range(1, 20, 2),y=test_scores,c='r')\n",
    "\n",
    "plt.show()"
   ]
  },
  {
   "cell_type": "code",
   "execution_count": 88,
   "metadata": {},
   "outputs": [
    {
     "name": "stdout",
     "output_type": "stream",
     "text": [
      "----------------------------------------\n",
      "Confusion Matrix\n",
      "[[9311  875]\n",
      " [2214 1167]]\n",
      "----------------------------------------\n",
      "Classification Report\n",
      "              precision    recall  f1-score   support\n",
      "\n",
      "           0       0.81      0.91      0.86     10186\n",
      "           1       0.57      0.35      0.43      3381\n",
      "\n",
      "   micro avg       0.77      0.77      0.77     13567\n",
      "   macro avg       0.69      0.63      0.64     13567\n",
      "weighted avg       0.75      0.77      0.75     13567\n",
      "\n",
      "----------------------------------------\n",
      "AUC ROC\n"
     ]
    },
    {
     "data": {
      "image/png": "[encoded data removed]",
      "text/plain": [
       "<Figure size 432x288 with 1 Axes>"
      ]
     },
     "metadata": {
      "needs_background": "light"
     },
     "output_type": "display_data"
    },
    {
     "name": "stdout",
     "output_type": "stream",
     "text": [
      "K Neighbors : Training score - 0.8296003790870321 - Test score - 0.7723151765312891\n"
     ]
    }
   ],
   "source": [
    "knn = KNeighborsClassifier(n_neighbors=5)\n",
    "knn.fit(X_train,y_train)\n",
    "\n",
    "knn.score(X_train,y_train)\n",
    "\n",
    "train_score = knn.score(X_train,y_train)\n",
    "test_score = knn.score(X_test,y_test)\n",
    "\n",
    "prediction = knn.predict(X_test)\n",
    "Algo_Data(prediction)\n",
    "\n",
    "print(f'K Neighbors : Training score - {train_score} - Test score - {test_score}')\n",
    "\n",
    "performance.append({'algorithm':'K Neighbors', 'training_score':train_score, 'testing_score':test_score})"
   ]
  },
  {
   "cell_type": "markdown",
   "metadata": {},
   "source": [
    "#### Decision Tree"
   ]
  },
  {
   "cell_type": "code",
   "execution_count": 33,
   "metadata": {},
   "outputs": [],
   "source": [
    "from sklearn.tree import DecisionTreeClassifier"
   ]
  },
  {
   "cell_type": "code",
   "execution_count": 34,
   "metadata": {},
   "outputs": [
    {
     "data": {
      "text/plain": [
       "DecisionTreeClassifier(class_weight=None, criterion='gini', max_depth=None,\n",
       "            max_features=None, max_leaf_nodes=None,\n",
       "            min_impurity_decrease=0.0, min_impurity_split=None,\n",
       "            min_samples_leaf=1, min_samples_split=2,\n",
       "            min_weight_fraction_leaf=0.0, presort=False, random_state=None,\n",
       "            splitter='best')"
      ]
     },
     "execution_count": 34,
     "metadata": {},
     "output_type": "execute_result"
    }
   ],
   "source": [
    "dt = DecisionTreeClassifier()\n",
    "dt.fit(X_train, y_train)"
   ]
  },
  {
   "cell_type": "code",
   "execution_count": 89,
   "metadata": {},
   "outputs": [
    {
     "name": "stdout",
     "output_type": "stream",
     "text": [
      "----------------------------------------\n",
      "Confusion Matrix\n",
      "[[8889 1297]\n",
      " [1216 2165]]\n",
      "----------------------------------------\n",
      "Classification Report\n",
      "              precision    recall  f1-score   support\n",
      "\n",
      "           0       0.88      0.87      0.88     10186\n",
      "           1       0.63      0.64      0.63      3381\n",
      "\n",
      "   micro avg       0.81      0.81      0.81     13567\n",
      "   macro avg       0.75      0.76      0.75     13567\n",
      "weighted avg       0.82      0.81      0.82     13567\n",
      "\n",
      "----------------------------------------\n",
      "AUC ROC\n"
     ]
    },
    {
     "data": {
      "image/png": "[encoded data removed]",
      "text/plain": [
       "<Figure size 432x288 with 1 Axes>"
      ]
     },
     "metadata": {
      "needs_background": "light"
     },
     "output_type": "display_data"
    },
    {
     "name": "stdout",
     "output_type": "stream",
     "text": [
      "Decision Tree : Training score - 0.9999368188279892 - Test score - 0.8147711358443281\n"
     ]
    }
   ],
   "source": [
    "train_score = dt.score(X_train,y_train)\n",
    "test_score = dt.score(X_test,y_test)\n",
    "\n",
    "prediction = dt.predict(X_test)\n",
    "Algo_Data(prediction)\n",
    "\n",
    "print(f'Decision Tree : Training score - {train_score} - Test score - {test_score}')\n",
    "\n",
    "performance.append({'algorithm':'Decision Tree', 'training_score':train_score, 'testing_score':test_score})"
   ]
  },
  {
   "cell_type": "markdown",
   "metadata": {},
   "source": [
    "#### Random Forest"
   ]
  },
  {
   "cell_type": "code",
   "execution_count": 36,
   "metadata": {},
   "outputs": [],
   "source": [
    "from sklearn.ensemble import RandomForestClassifier"
   ]
  },
  {
   "cell_type": "code",
   "execution_count": 37,
   "metadata": {},
   "outputs": [
    {
     "name": "stderr",
     "output_type": "stream",
     "text": [
      "C:\\ProgramData\\Anaconda3\\lib\\site-packages\\sklearn\\ensemble\\forest.py:246: FutureWarning: The default value of n_estimators will change from 10 in version 0.20 to 100 in 0.22.\n",
      "  \"10 in version 0.20 to 100 in 0.22.\", FutureWarning)\n"
     ]
    },
    {
     "data": {
      "text/plain": [
       "RandomForestClassifier(bootstrap=True, class_weight=None, criterion='gini',\n",
       "            max_depth=None, max_features='auto', max_leaf_nodes=None,\n",
       "            min_impurity_decrease=0.0, min_impurity_split=None,\n",
       "            min_samples_leaf=1, min_samples_split=2,\n",
       "            min_weight_fraction_leaf=0.0, n_estimators=10, n_jobs=None,\n",
       "            oob_score=False, random_state=None, verbose=0,\n",
       "            warm_start=False)"
      ]
     },
     "execution_count": 37,
     "metadata": {},
     "output_type": "execute_result"
    }
   ],
   "source": [
    "rf = RandomForestClassifier()\n",
    "rf.fit(X_train, y_train)"
   ]
  },
  {
   "cell_type": "code",
   "execution_count": 68,
   "metadata": {},
   "outputs": [
    {
     "name": "stdout",
     "output_type": "stream",
     "text": [
      "Random Forest : Training score - 0.9879639867319538 - Test score - 0.8397582368983563 - Confusion Matrix - [[9388  798]\n",
      " [1376 2005]] - Classification Report -               precision    recall  f1-score   support\n",
      "\n",
      "           0       0.87      0.92      0.90     10186\n",
      "           1       0.72      0.59      0.65      3381\n",
      "\n",
      "   micro avg       0.84      0.84      0.84     13567\n",
      "   macro avg       0.79      0.76      0.77     13567\n",
      "weighted avg       0.83      0.84      0.83     13567\n",
      "\n"
     ]
    }
   ],
   "source": [
    "train_score = rf.score(X_train,y_train)\n",
    "test_score = rf.score(X_test,y_test)\n",
    "\n",
    "prediction = rf.predict(X_test)\n",
    "Algo_Data(prediction)\n",
    "\n",
    "print(f'Random Forest : Training score - {train_score} - Test score - {test_score}')\n",
    "\n",
    "performance.append({'algorithm':'Random Forest', 'training_score':train_score, 'testing_score':test_score})"
   ]
  },
  {
   "cell_type": "markdown",
   "metadata": {},
   "source": [
    "#### Support Vector Machine"
   ]
  },
  {
   "cell_type": "code",
   "execution_count": 39,
   "metadata": {},
   "outputs": [
    {
     "name": "stderr",
     "output_type": "stream",
     "text": [
      "C:\\ProgramData\\Anaconda3\\lib\\site-packages\\sklearn\\preprocessing\\data.py:645: DataConversionWarning: Data with input dtype uint8, int64 were all converted to float64 by StandardScaler.\n",
      "  return self.partial_fit(X, y)\n"
     ]
    },
    {
     "data": {
      "text/plain": [
       "StandardScaler(copy=True, with_mean=True, with_std=True)"
      ]
     },
     "execution_count": 39,
     "metadata": {},
     "output_type": "execute_result"
    }
   ],
   "source": [
    "from sklearn import svm\n",
    "\n",
    "svc = svm.SVC(kernel='linear')\n",
    "\n",
    "from sklearn.preprocessing import StandardScaler\n",
    "\n",
    "scaler = StandardScaler()\n",
    "\n",
    "scaler.fit(X_train, y_train)"
   ]
  },
  {
   "cell_type": "code",
   "execution_count": 40,
   "metadata": {},
   "outputs": [
    {
     "name": "stderr",
     "output_type": "stream",
     "text": [
      "C:\\ProgramData\\Anaconda3\\lib\\site-packages\\ipykernel_launcher.py:1: DataConversionWarning: Data with input dtype uint8, int64 were all converted to float64 by StandardScaler.\n",
      "  \"\"\"Entry point for launching an IPython kernel.\n",
      "C:\\ProgramData\\Anaconda3\\lib\\site-packages\\ipykernel_launcher.py:2: DataConversionWarning: Data with input dtype uint8, int64 were all converted to float64 by StandardScaler.\n",
      "  \n"
     ]
    }
   ],
   "source": [
    "x_train_scaled = scaler.transform(X_train)\n",
    "x_test_scaled = scaler.transform(X_test)"
   ]
  },
  {
   "cell_type": "code",
   "execution_count": 41,
   "metadata": {},
   "outputs": [
    {
     "data": {
      "text/plain": [
       "SVC(C=1.0, cache_size=200, class_weight=None, coef0=0.0,\n",
       "  decision_function_shape='ovr', degree=3, gamma='auto_deprecated',\n",
       "  kernel='linear', max_iter=-1, probability=False, random_state=None,\n",
       "  shrinking=True, tol=0.001, verbose=False)"
      ]
     },
     "execution_count": 41,
     "metadata": {},
     "output_type": "execute_result"
    }
   ],
   "source": [
    "svc.fit(x_train_scaled,y_train)"
   ]
  },
  {
   "cell_type": "code",
   "execution_count": 69,
   "metadata": {},
   "outputs": [
    {
     "name": "stdout",
     "output_type": "stream",
     "text": [
      "SVM : Training score - 0.24725951666403412 - Test score - 0.24920763617601532 - Confusion Matrix - [[    0 10186]\n",
      " [    0  3381]] - Classification Report -               precision    recall  f1-score   support\n",
      "\n",
      "           0       0.00      0.00      0.00     10186\n",
      "           1       0.25      1.00      0.40      3381\n",
      "\n",
      "   micro avg       0.25      0.25      0.25     13567\n",
      "   macro avg       0.12      0.50      0.20     13567\n",
      "weighted avg       0.06      0.25      0.10     13567\n",
      "\n"
     ]
    },
    {
     "name": "stderr",
     "output_type": "stream",
     "text": [
      "C:\\ProgramData\\Anaconda3\\lib\\site-packages\\sklearn\\metrics\\classification.py:1143: UndefinedMetricWarning: Precision and F-score are ill-defined and being set to 0.0 in labels with no predicted samples.\n",
      "  'precision', 'predicted', average, warn_for)\n"
     ]
    }
   ],
   "source": [
    "train_score = svc.score(X_train,y_train)\n",
    "test_score = svc.score(X_test,y_test)\n",
    "\n",
    "prediction = svc.predict(X_test)\n",
    "Algo_Data(prediction)\n",
    "\n",
    "print(f'SVM : Training score - {train_score} - Test score - {test_score}')\n",
    "\n",
    "performance.append({'algorithm':'SVM', 'training_score':train_score, 'testing_score':test_score})"
   ]
  },
  {
   "cell_type": "markdown",
   "metadata": {},
   "source": [
    "#### XG Boost"
   ]
  },
  {
   "cell_type": "code",
   "execution_count": 43,
   "metadata": {},
   "outputs": [],
   "source": [
    "from xgboost.sklearn import XGBClassifier"
   ]
  },
  {
   "cell_type": "code",
   "execution_count": 44,
   "metadata": {},
   "outputs": [
    {
     "name": "stdout",
     "output_type": "stream",
     "text": [
      "[0]\tvalidation_0-error:0.159027\tvalidation_1-error:0.164885\n",
      "Multiple eval metrics have been passed: 'validation_1-error' will be used for early stopping.\n",
      "\n",
      "Will train until validation_1-error hasn't improved in 20 rounds.\n",
      "[1]\tvalidation_0-error:0.158901\tvalidation_1-error:0.163411\n",
      "[2]\tvalidation_0-error:0.158901\tvalidation_1-error:0.163411\n",
      "[3]\tvalidation_0-error:0.158901\tvalidation_1-error:0.163411\n",
      "[4]\tvalidation_0-error:0.15909\tvalidation_1-error:0.164885\n",
      "[5]\tvalidation_0-error:0.157669\tvalidation_1-error:0.163706\n",
      "[6]\tvalidation_0-error:0.157669\tvalidation_1-error:0.163706\n",
      "[7]\tvalidation_0-error:0.157669\tvalidation_1-error:0.163706\n",
      "[8]\tvalidation_0-error:0.157574\tvalidation_1-error:0.16319\n",
      "[9]\tvalidation_0-error:0.158427\tvalidation_1-error:0.162822\n",
      "[10]\tvalidation_0-error:0.157542\tvalidation_1-error:0.163043\n",
      "[11]\tvalidation_0-error:0.15552\tvalidation_1-error:0.159726\n",
      "[12]\tvalidation_0-error:0.155584\tvalidation_1-error:0.159726\n",
      "[13]\tvalidation_0-error:0.155426\tvalidation_1-error:0.159726\n",
      "[14]\tvalidation_0-error:0.154288\tvalidation_1-error:0.158473\n",
      "[15]\tvalidation_0-error:0.153688\tvalidation_1-error:0.158694\n",
      "[16]\tvalidation_0-error:0.153657\tvalidation_1-error:0.157809\n",
      "[17]\tvalidation_0-error:0.152804\tvalidation_1-error:0.156925\n",
      "[18]\tvalidation_0-error:0.15353\tvalidation_1-error:0.157957\n",
      "[19]\tvalidation_0-error:0.152677\tvalidation_1-error:0.155746\n",
      "[20]\tvalidation_0-error:0.152835\tvalidation_1-error:0.156188\n",
      "[21]\tvalidation_0-error:0.152361\tvalidation_1-error:0.155377\n",
      "[22]\tvalidation_0-error:0.152172\tvalidation_1-error:0.154861\n",
      "[23]\tvalidation_0-error:0.152109\tvalidation_1-error:0.154861\n",
      "[24]\tvalidation_0-error:0.151888\tvalidation_1-error:0.15464\n",
      "[25]\tvalidation_0-error:0.150813\tvalidation_1-error:0.153166\n",
      "[26]\tvalidation_0-error:0.149171\tvalidation_1-error:0.150807\n",
      "[27]\tvalidation_0-error:0.148191\tvalidation_1-error:0.150144\n",
      "[28]\tvalidation_0-error:0.148191\tvalidation_1-error:0.149996\n",
      "[29]\tvalidation_0-error:0.148002\tvalidation_1-error:0.149628\n",
      "[30]\tvalidation_0-error:0.148002\tvalidation_1-error:0.149259\n",
      "[31]\tvalidation_0-error:0.14797\tvalidation_1-error:0.149112\n",
      "[32]\tvalidation_0-error:0.147654\tvalidation_1-error:0.149112\n",
      "[33]\tvalidation_0-error:0.147496\tvalidation_1-error:0.148743\n",
      "[34]\tvalidation_0-error:0.147212\tvalidation_1-error:0.14867\n",
      "[35]\tvalidation_0-error:0.146896\tvalidation_1-error:0.14867\n",
      "[36]\tvalidation_0-error:0.146138\tvalidation_1-error:0.148522\n",
      "[37]\tvalidation_0-error:0.146833\tvalidation_1-error:0.148154\n",
      "[38]\tvalidation_0-error:0.145727\tvalidation_1-error:0.148006\n",
      "[39]\tvalidation_0-error:0.145506\tvalidation_1-error:0.147711\n",
      "[40]\tvalidation_0-error:0.145569\tvalidation_1-error:0.147932\n",
      "[41]\tvalidation_0-error:0.145159\tvalidation_1-error:0.147932\n",
      "[42]\tvalidation_0-error:0.144906\tvalidation_1-error:0.147048\n",
      "[43]\tvalidation_0-error:0.144716\tvalidation_1-error:0.146901\n",
      "[44]\tvalidation_0-error:0.144748\tvalidation_1-error:0.147048\n",
      "[45]\tvalidation_0-error:0.144811\tvalidation_1-error:0.146901\n",
      "[46]\tvalidation_0-error:0.144874\tvalidation_1-error:0.146901\n",
      "[47]\tvalidation_0-error:0.14478\tvalidation_1-error:0.146901\n",
      "[48]\tvalidation_0-error:0.144622\tvalidation_1-error:0.146753\n",
      "[49]\tvalidation_0-error:0.144148\tvalidation_1-error:0.146311\n",
      "[50]\tvalidation_0-error:0.143958\tvalidation_1-error:0.146458\n",
      "[51]\tvalidation_0-error:0.143579\tvalidation_1-error:0.14609\n",
      "[52]\tvalidation_0-error:0.143706\tvalidation_1-error:0.146237\n",
      "[53]\tvalidation_0-error:0.143832\tvalidation_1-error:0.145869\n",
      "[54]\tvalidation_0-error:0.143737\tvalidation_1-error:0.145869\n",
      "[55]\tvalidation_0-error:0.143706\tvalidation_1-error:0.145795\n",
      "[56]\tvalidation_0-error:0.143579\tvalidation_1-error:0.145721\n",
      "[57]\tvalidation_0-error:0.143516\tvalidation_1-error:0.145795\n",
      "[58]\tvalidation_0-error:0.143011\tvalidation_1-error:0.145426\n",
      "[59]\tvalidation_0-error:0.142789\tvalidation_1-error:0.145721\n",
      "[60]\tvalidation_0-error:0.14241\tvalidation_1-error:0.145426\n",
      "[61]\tvalidation_0-error:0.141684\tvalidation_1-error:0.144763\n",
      "[62]\tvalidation_0-error:0.141557\tvalidation_1-error:0.144837\n",
      "[63]\tvalidation_0-error:0.141747\tvalidation_1-error:0.144763\n",
      "[64]\tvalidation_0-error:0.141652\tvalidation_1-error:0.144247\n",
      "[65]\tvalidation_0-error:0.141494\tvalidation_1-error:0.143879\n",
      "[66]\tvalidation_0-error:0.141494\tvalidation_1-error:0.143879\n",
      "[67]\tvalidation_0-error:0.141779\tvalidation_1-error:0.143952\n",
      "[68]\tvalidation_0-error:0.141873\tvalidation_1-error:0.144026\n",
      "[69]\tvalidation_0-error:0.141747\tvalidation_1-error:0.143805\n",
      "[70]\tvalidation_0-error:0.141463\tvalidation_1-error:0.143584\n",
      "[71]\tvalidation_0-error:0.140673\tvalidation_1-error:0.143215\n",
      "[72]\tvalidation_0-error:0.140894\tvalidation_1-error:0.142773\n",
      "[73]\tvalidation_0-error:0.140515\tvalidation_1-error:0.143363\n",
      "[74]\tvalidation_0-error:0.140483\tvalidation_1-error:0.143436\n",
      "[75]\tvalidation_0-error:0.140136\tvalidation_1-error:0.143805\n",
      "[76]\tvalidation_0-error:0.139441\tvalidation_1-error:0.143215\n",
      "[77]\tvalidation_0-error:0.139093\tvalidation_1-error:0.14292\n",
      "[78]\tvalidation_0-error:0.138777\tvalidation_1-error:0.142847\n",
      "[79]\tvalidation_0-error:0.138777\tvalidation_1-error:0.142699\n",
      "[80]\tvalidation_0-error:0.138619\tvalidation_1-error:0.142552\n",
      "[81]\tvalidation_0-error:0.138525\tvalidation_1-error:0.142404\n",
      "[82]\tvalidation_0-error:0.13843\tvalidation_1-error:0.142331\n",
      "[83]\tvalidation_0-error:0.138525\tvalidation_1-error:0.142183\n",
      "[84]\tvalidation_0-error:0.138462\tvalidation_1-error:0.14211\n",
      "[85]\tvalidation_0-error:0.138177\tvalidation_1-error:0.141815\n",
      "[86]\tvalidation_0-error:0.138335\tvalidation_1-error:0.141446\n",
      "[87]\tvalidation_0-error:0.138019\tvalidation_1-error:0.141446\n",
      "[88]\tvalidation_0-error:0.137735\tvalidation_1-error:0.141446\n",
      "[89]\tvalidation_0-error:0.137356\tvalidation_1-error:0.141225\n",
      "[90]\tvalidation_0-error:0.137451\tvalidation_1-error:0.141078\n",
      "[91]\tvalidation_0-error:0.136914\tvalidation_1-error:0.140562\n",
      "[92]\tvalidation_0-error:0.137008\tvalidation_1-error:0.140488\n",
      "[93]\tvalidation_0-error:0.136819\tvalidation_1-error:0.140635\n",
      "[94]\tvalidation_0-error:0.136692\tvalidation_1-error:0.140414\n",
      "[95]\tvalidation_0-error:0.136219\tvalidation_1-error:0.140193\n",
      "[96]\tvalidation_0-error:0.136282\tvalidation_1-error:0.140193\n",
      "[97]\tvalidation_0-error:0.136061\tvalidation_1-error:0.139972\n",
      "[98]\tvalidation_0-error:0.135934\tvalidation_1-error:0.139972\n",
      "[99]\tvalidation_0-error:0.135808\tvalidation_1-error:0.139751\n"
     ]
    },
    {
     "data": {
      "text/plain": [
       "XGBClassifier(base_score=0.5, booster='gbtree', colsample_bylevel=1,\n",
       "       colsample_bytree=1, gamma=0, learning_rate=0.1, max_delta_step=0,\n",
       "       max_depth=3, min_child_weight=1, missing=None, n_estimators=100,\n",
       "       n_jobs=1, nthread=None, objective='binary:logistic', random_state=0,\n",
       "       reg_alpha=0, reg_lambda=1, scale_pos_weight=1, seed=None,\n",
       "       silent=True, subsample=1)"
      ]
     },
     "execution_count": 44,
     "metadata": {},
     "output_type": "execute_result"
    }
   ],
   "source": [
    "xg = XGBClassifier()\n",
    "xg.fit(X_train,y_train,  eval_set = [(X_train,y_train),(X_test, y_test)], early_stopping_rounds=20)"
   ]
  },
  {
   "cell_type": "code",
   "execution_count": 70,
   "metadata": {},
   "outputs": [
    {
     "name": "stdout",
     "output_type": "stream",
     "text": [
      "XGBoost : Training score - 0.8641920707629126 - Test score - 0.8602491339279134 - Confusion Matrix - [[9613  573]\n",
      " [1323 2058]] - Classification Report -               precision    recall  f1-score   support\n",
      "\n",
      "           0       0.88      0.94      0.91     10186\n",
      "           1       0.78      0.61      0.68      3381\n",
      "\n",
      "   micro avg       0.86      0.86      0.86     13567\n",
      "   macro avg       0.83      0.78      0.80     13567\n",
      "weighted avg       0.85      0.86      0.85     13567\n",
      "\n"
     ]
    }
   ],
   "source": [
    "train_score = xg.score(X_train,y_train)\n",
    "test_score = xg.score(X_test,y_test)\n",
    "\n",
    "prediction = xg.predict(X_test)\n",
    "Algo_Data(prediction)\n",
    "\n",
    "print(f'XGBoost : Training score - {train_score} - Test score - {test_score}')\n",
    "\n",
    "performance.append({'algorithm':'XGBoost', 'training_score':train_score, 'testing_score':test_score})"
   ]
  },
  {
   "cell_type": "markdown",
   "metadata": {},
   "source": [
    "### Final Conclusion"
   ]
  },
  {
   "cell_type": "code",
   "execution_count": 71,
   "metadata": {
    "scrolled": true
   },
   "outputs": [
    {
     "data": {
      "text/plain": [
       "[{'algorithm': 'LogisticRegression',\n",
       "  'training_score': 0.790870320644448,\n",
       "  'testing_score': 0.7937642809758974},\n",
       " {'algorithm': 'Gaussian Naive Bayes',\n",
       "  'training_score': 0.7883114831780129,\n",
       "  'testing_score': 0.7898577430529963},\n",
       " {'algorithm': 'K Neighbors [5]',\n",
       "  'training_score': 0.8296003790870321,\n",
       "  'testing_score': 0.7723151765312891},\n",
       " {'algorithm': 'Decision Tree',\n",
       "  'training_score': 0.9999368188279892,\n",
       "  'testing_score': 0.8147711358443281},\n",
       " {'algorithm': 'Random Forest',\n",
       "  'training_score': 0.9879639867319538,\n",
       "  'testing_score': 0.8397582368983563},\n",
       " {'algorithm': 'SVM',\n",
       "  'training_score': 0.24725951666403412,\n",
       "  'testing_score': 0.24920763617601532},\n",
       " {'algorithm': 'XGBoost',\n",
       "  'training_score': 0.8641920707629126,\n",
       "  'testing_score': 0.8602491339279134},\n",
       " {'algorithm': 'LogisticRegression',\n",
       "  'training_score': 0.790870320644448,\n",
       "  'testing_score': 0.7937642809758974},\n",
       " {'algorithm': 'LogisticRegression',\n",
       "  'training_score': 0.790870320644448,\n",
       "  'testing_score': 0.7937642809758974,\n",
       "  'confusion_matrix': array([[9827,  359],\n",
       "         [2439,  942]], dtype=int64)},\n",
       " {'algorithm': 'LogisticRegression',\n",
       "  'training_score': 0.790870320644448,\n",
       "  'testing_score': 0.7937642809758974,\n",
       "  'confusion_matrix': array([[9827,  359],\n",
       "         [2439,  942]], dtype=int64)},\n",
       " {'algorithm': 'LogisticRegression',\n",
       "  'training_score': 0.790870320644448,\n",
       "  'testing_score': 0.7937642809758974,\n",
       "  'confusion_matrix': array([[9827,  359],\n",
       "         [2439,  942]], dtype=int64)},\n",
       " {'algorithm': 'LogisticRegression',\n",
       "  'training_score': 0.790870320644448,\n",
       "  'testing_score': 0.7937642809758974,\n",
       "  'confusion_matrix': array([[9827,  359],\n",
       "         [2439,  942]], dtype=int64),\n",
       "  'classification_report': '              precision    recall  f1-score   support\\n\\n           0       0.80      0.96      0.88     10186\\n           1       0.72      0.28      0.40      3381\\n\\n   micro avg       0.79      0.79      0.79     13567\\n   macro avg       0.76      0.62      0.64     13567\\nweighted avg       0.78      0.79      0.76     13567\\n'},\n",
       " {'algorithm': 'Gaussian Naive Bayes',\n",
       "  'training_score': 0.7883114831780129,\n",
       "  'testing_score': 0.7898577430529963},\n",
       " {'algorithm': 'Gaussian Naive Bayes',\n",
       "  'training_score': 0.7883114831780129,\n",
       "  'testing_score': 0.7898577430529963,\n",
       "  'confusion_matrix': array([[9641,  545],\n",
       "         [2306, 1075]], dtype=int64),\n",
       "  'classification_report': '              precision    recall  f1-score   support\\n\\n           0       0.81      0.95      0.87     10186\\n           1       0.66      0.32      0.43      3381\\n\\n   micro avg       0.79      0.79      0.79     13567\\n   macro avg       0.74      0.63      0.65     13567\\nweighted avg       0.77      0.79      0.76     13567\\n'},\n",
       " {'algorithm': 'K Neighbors',\n",
       "  'training_score': 0.8296003790870321,\n",
       "  'testing_score': 0.7723151765312891,\n",
       "  'confusion_matrix': array([[9311,  875],\n",
       "         [2214, 1167]], dtype=int64),\n",
       "  'classification_report': '              precision    recall  f1-score   support\\n\\n           0       0.81      0.91      0.86     10186\\n           1       0.57      0.35      0.43      3381\\n\\n   micro avg       0.77      0.77      0.77     13567\\n   macro avg       0.69      0.63      0.64     13567\\nweighted avg       0.75      0.77      0.75     13567\\n'},\n",
       " {'algorithm': 'Decision Tree',\n",
       "  'training_score': 0.9999368188279892,\n",
       "  'testing_score': 0.8147711358443281,\n",
       "  'confusion_matrix': array([[8889, 1297],\n",
       "         [1216, 2165]], dtype=int64),\n",
       "  'classification_report': '              precision    recall  f1-score   support\\n\\n           0       0.88      0.87      0.88     10186\\n           1       0.63      0.64      0.63      3381\\n\\n   micro avg       0.81      0.81      0.81     13567\\n   macro avg       0.75      0.76      0.75     13567\\nweighted avg       0.82      0.81      0.82     13567\\n'},\n",
       " {'algorithm': 'Random Forest',\n",
       "  'training_score': 0.9879639867319538,\n",
       "  'testing_score': 0.8397582368983563,\n",
       "  'confusion_matrix': array([[9388,  798],\n",
       "         [1376, 2005]], dtype=int64),\n",
       "  'classification_report': '              precision    recall  f1-score   support\\n\\n           0       0.87      0.92      0.90     10186\\n           1       0.72      0.59      0.65      3381\\n\\n   micro avg       0.84      0.84      0.84     13567\\n   macro avg       0.79      0.76      0.77     13567\\nweighted avg       0.83      0.84      0.83     13567\\n'},\n",
       " {'algorithm': 'SVM',\n",
       "  'training_score': 0.24725951666403412,\n",
       "  'testing_score': 0.24920763617601532,\n",
       "  'confusion_matrix': array([[    0, 10186],\n",
       "         [    0,  3381]], dtype=int64),\n",
       "  'classification_report': '              precision    recall  f1-score   support\\n\\n           0       0.00      0.00      0.00     10186\\n           1       0.25      1.00      0.40      3381\\n\\n   micro avg       0.25      0.25      0.25     13567\\n   macro avg       0.12      0.50      0.20     13567\\nweighted avg       0.06      0.25      0.10     13567\\n'},\n",
       " {'algorithm': 'XGBoost',\n",
       "  'training_score': 0.8641920707629126,\n",
       "  'testing_score': 0.8602491339279134,\n",
       "  'confusion_matrix': array([[9613,  573],\n",
       "         [1323, 2058]], dtype=int64),\n",
       "  'classification_report': '              precision    recall  f1-score   support\\n\\n           0       0.88      0.94      0.91     10186\\n           1       0.78      0.61      0.68      3381\\n\\n   micro avg       0.86      0.86      0.86     13567\\n   macro avg       0.83      0.78      0.80     13567\\nweighted avg       0.85      0.86      0.85     13567\\n'}]"
      ]
     },
     "execution_count": 71,
     "metadata": {},
     "output_type": "execute_result"
    }
   ],
   "source": [
    "performance"
   ]
  },
  {
   "cell_type": "code",
   "execution_count": 72,
   "metadata": {},
   "outputs": [
    {
     "name": "stdout",
     "output_type": "stream",
     "text": [
      "{'algorithm': 'LogisticRegression', 'training_score': 0.790870320644448, 'testing_score': 0.7937642809758974}\n",
      "{'algorithm': 'Gaussian Naive Bayes', 'training_score': 0.7883114831780129, 'testing_score': 0.7898577430529963}\n",
      "{'algorithm': 'K Neighbors [5]', 'training_score': 0.8296003790870321, 'testing_score': 0.7723151765312891}\n",
      "{'algorithm': 'Decision Tree', 'training_score': 0.9999368188279892, 'testing_score': 0.8147711358443281}\n",
      "{'algorithm': 'Random Forest', 'training_score': 0.9879639867319538, 'testing_score': 0.8397582368983563}\n",
      "{'algorithm': 'SVM', 'training_score': 0.24725951666403412, 'testing_score': 0.24920763617601532}\n",
      "{'algorithm': 'XGBoost', 'training_score': 0.8641920707629126, 'testing_score': 0.8602491339279134}\n",
      "{'algorithm': 'LogisticRegression', 'training_score': 0.790870320644448, 'testing_score': 0.7937642809758974}\n",
      "{'algorithm': 'LogisticRegression', 'training_score': 0.790870320644448, 'testing_score': 0.7937642809758974, 'confusion_matrix': array([[9827,  359],\n",
      "       [2439,  942]], dtype=int64)}\n",
      "{'algorithm': 'LogisticRegression', 'training_score': 0.790870320644448, 'testing_score': 0.7937642809758974, 'confusion_matrix': array([[9827,  359],\n",
      "       [2439,  942]], dtype=int64)}\n",
      "{'algorithm': 'LogisticRegression', 'training_score': 0.790870320644448, 'testing_score': 0.7937642809758974, 'confusion_matrix': array([[9827,  359],\n",
      "       [2439,  942]], dtype=int64)}\n",
      "{'algorithm': 'LogisticRegression', 'training_score': 0.790870320644448, 'testing_score': 0.7937642809758974, 'confusion_matrix': array([[9827,  359],\n",
      "       [2439,  942]], dtype=int64), 'classification_report': '              precision    recall  f1-score   support\\n\\n           0       0.80      0.96      0.88     10186\\n           1       0.72      0.28      0.40      3381\\n\\n   micro avg       0.79      0.79      0.79     13567\\n   macro avg       0.76      0.62      0.64     13567\\nweighted avg       0.78      0.79      0.76     13567\\n'}\n",
      "{'algorithm': 'Gaussian Naive Bayes', 'training_score': 0.7883114831780129, 'testing_score': 0.7898577430529963}\n",
      "{'algorithm': 'Gaussian Naive Bayes', 'training_score': 0.7883114831780129, 'testing_score': 0.7898577430529963, 'confusion_matrix': array([[9641,  545],\n",
      "       [2306, 1075]], dtype=int64), 'classification_report': '              precision    recall  f1-score   support\\n\\n           0       0.81      0.95      0.87     10186\\n           1       0.66      0.32      0.43      3381\\n\\n   micro avg       0.79      0.79      0.79     13567\\n   macro avg       0.74      0.63      0.65     13567\\nweighted avg       0.77      0.79      0.76     13567\\n'}\n",
      "{'algorithm': 'K Neighbors', 'training_score': 0.8296003790870321, 'testing_score': 0.7723151765312891, 'confusion_matrix': array([[9311,  875],\n",
      "       [2214, 1167]], dtype=int64), 'classification_report': '              precision    recall  f1-score   support\\n\\n           0       0.81      0.91      0.86     10186\\n           1       0.57      0.35      0.43      3381\\n\\n   micro avg       0.77      0.77      0.77     13567\\n   macro avg       0.69      0.63      0.64     13567\\nweighted avg       0.75      0.77      0.75     13567\\n'}\n",
      "{'algorithm': 'Decision Tree', 'training_score': 0.9999368188279892, 'testing_score': 0.8147711358443281, 'confusion_matrix': array([[8889, 1297],\n",
      "       [1216, 2165]], dtype=int64), 'classification_report': '              precision    recall  f1-score   support\\n\\n           0       0.88      0.87      0.88     10186\\n           1       0.63      0.64      0.63      3381\\n\\n   micro avg       0.81      0.81      0.81     13567\\n   macro avg       0.75      0.76      0.75     13567\\nweighted avg       0.82      0.81      0.82     13567\\n'}\n",
      "{'algorithm': 'Random Forest', 'training_score': 0.9879639867319538, 'testing_score': 0.8397582368983563, 'confusion_matrix': array([[9388,  798],\n",
      "       [1376, 2005]], dtype=int64), 'classification_report': '              precision    recall  f1-score   support\\n\\n           0       0.87      0.92      0.90     10186\\n           1       0.72      0.59      0.65      3381\\n\\n   micro avg       0.84      0.84      0.84     13567\\n   macro avg       0.79      0.76      0.77     13567\\nweighted avg       0.83      0.84      0.83     13567\\n'}\n",
      "{'algorithm': 'SVM', 'training_score': 0.24725951666403412, 'testing_score': 0.24920763617601532, 'confusion_matrix': array([[    0, 10186],\n",
      "       [    0,  3381]], dtype=int64), 'classification_report': '              precision    recall  f1-score   support\\n\\n           0       0.00      0.00      0.00     10186\\n           1       0.25      1.00      0.40      3381\\n\\n   micro avg       0.25      0.25      0.25     13567\\n   macro avg       0.12      0.50      0.20     13567\\nweighted avg       0.06      0.25      0.10     13567\\n'}\n",
      "{'algorithm': 'XGBoost', 'training_score': 0.8641920707629126, 'testing_score': 0.8602491339279134, 'confusion_matrix': array([[9613,  573],\n",
      "       [1323, 2058]], dtype=int64), 'classification_report': '              precision    recall  f1-score   support\\n\\n           0       0.88      0.94      0.91     10186\\n           1       0.78      0.61      0.68      3381\\n\\n   micro avg       0.86      0.86      0.86     13567\\n   macro avg       0.83      0.78      0.80     13567\\nweighted avg       0.85      0.86      0.85     13567\\n'}\n"
     ]
    }
   ],
   "source": []
  },
  {
   "cell_type": "code",
   "execution_count": 50,
   "metadata": {},
   "outputs": [
    {
     "data": {
      "image/png": "[encoded data removed]",
      "text/plain": [
       "<Figure size 432x288 with 1 Axes>"
      ]
     },
     "metadata": {
      "needs_background": "light"
     },
     "output_type": "display_data"
    }
   ],
   "source": [
    "feat_importances = pd.Series(xg.feature_importances_, index=X.columns)\n",
    "feat_importances.nlargest(10).plot(kind='barh')\n",
    "plt.show()"
   ]
  },
  {
   "cell_type": "markdown",
   "metadata": {},
   "source": [
    "##### XGBoost provided the best traing and test score.\n",
    "\n",
    "##### So XGBoost is the best algorithm for this dataset."
   ]
  },
  {
   "cell_type": "code",
   "execution_count": null,
   "metadata": {},
   "outputs": [],
   "source": []
  }
 ],
 "metadata": {
  "kernelspec": {
   "display_name": "Python 3",
   "language": "python",
   "name": "python3"
  },
  "language_info": {
   "codemirror_mode": {
    "name": "ipython",
    "version": 3
   },
   "file_extension": ".py",
   "mimetype": "text/x-python",
   "name": "python",
   "nbconvert_exporter": "python",
   "pygments_lexer": "ipython3",
   "version": "3.7.0"
  }
 },
 "nbformat": 4,
 "nbformat_minor": 2
}
